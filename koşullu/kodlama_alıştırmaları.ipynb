{
 "cells": [
  {
   "cell_type": "code",
   "execution_count": 2,
   "id": "2a936139",
   "metadata": {},
   "outputs": [
    {
     "name": "stdout",
     "output_type": "stream",
     "text": [
      "************************\n",
      "\n",
      "kullanıcı giriş programı\n",
      "\n",
      "****************************\n",
      "\n",
      "kullanıcı adı:mmurat\n",
      "parola:12345\n",
      "sisteme giriş yapıldı....\n"
     ]
    }
   ],
   "source": [
    "print(\"\"\"************************\n",
    "\n",
    "kullanıcı giriş programı\n",
    "\n",
    "****************************\n",
    "\"\"\")\n",
    "sys_kllanıcı_adı=\"mmurat\"\n",
    "sys_parola=\"12345\"\n",
    "giriş_hakkı=3\n",
    "\n",
    "while True:\n",
    "    kullanıcı_adı=input(\"kullanıcı adı:\")\n",
    "    parola =input(\"parola:\")\n",
    "    if(kullanıcı_adı != sys_kllanıcı_adı and parola ==sys_parola):\n",
    "        print(\"kullanıcı adı hatalı.\")\n",
    "        giriş_hakkı -=1\n",
    "        \n",
    "    elif(kullanıcı_adı == sys_kllanıcı_adı and parola !=sys_parola):\n",
    "        print(\"parola hatalı.....\")\n",
    "        giriş_hakkı -=1\n",
    "    elif(kullanıcı_adı != sys_kllanıcı_adı and parola != sys_parola) :\n",
    "        print(\"kullanıcı ADI VE PAROLA HATALI\")\n",
    "        giriş_hakkı -=1\n",
    "    else:\n",
    "        print(\"sisteme giriş yapıldı....\")\n",
    "        break\n",
    "    if (giriş_hakkı==0):\n",
    "        print(\"giriş hakkınız bitti....\")"
   ]
  },
  {
   "cell_type": "code",
   "execution_count": 4,
   "id": "06145dd9",
   "metadata": {},
   "outputs": [
    {
     "name": "stdout",
     "output_type": "stream",
     "text": [
      "*********************\n",
      "Atm Makinesine Hoşgeldiniz.\n",
      "\n",
      "işlemler ;\n",
      "1. bakiye sorgulama\n",
      "2. para yatırma\n",
      "3. para çekme\n",
      "programdan çıkmak için q ya basın.\n",
      "\n",
      "**********************\n",
      "\n",
      "işlemi seçiniz:q\n",
      "yine bekleriz\n"
     ]
    }
   ],
   "source": [
    "print(\"\"\"*********************\n",
    "Atm Makinesine Hoşgeldiniz.\n",
    "\n",
    "işlemler ;\n",
    "1. bakiye sorgulama\n",
    "2. para yatırma\n",
    "3. para çekme\n",
    "programdan çıkmak için q ya basın.\n",
    "\n",
    "**********************\n",
    "\"\"\")\n",
    "\n",
    "bakiye=1000\n",
    "while True:\n",
    "    işlem= input(\"işlemi seçiniz:\")\n",
    "\n",
    "    if(işlem == \"q\"):\n",
    "        print(\"yine bekleriz\")\n",
    "        break\n",
    "    elif (işlem ==\"1\"):\n",
    "        print(\"bakiyeniz {} tl dir\".format(bakiye))\n",
    "    elif(işlem==\"2\"):\n",
    "        miktar=int(input(\"miktarı giriniz:\"))\n",
    "        bakiye += miktar\n",
    "    elif(işlem==\"3\"):\n",
    "        miktar = int(input(\"miktarı giriniz:\"))\n",
    "        if(bakiye-miktar<0):\n",
    "            print(\"böyle bir miktarı çekemezsiniz....\")\n",
    "            continue\n",
    "        bakiye-=miktar\n",
    "    else:\n",
    "        print(\"geçersiz işlem....\")"
   ]
  },
  {
   "cell_type": "code",
   "execution_count": 14,
   "id": "5214e428",
   "metadata": {},
   "outputs": [
    {
     "name": "stdout",
     "output_type": "stream",
     "text": [
      "**********************************\n",
      "faktöriyel bulma\n",
      "******************************\n",
      "sayı:5\n",
      "Faktoriyel 1 i: 2\n",
      "Faktoriyel 2 i: 3\n",
      "Faktoriyel 6 i: 4\n",
      "Faktoriyel 24 i: 5\n",
      "Faktöriyel : 120\n",
      "sayı:q\n",
      "program sonlandırılıyor\n"
     ]
    }
   ],
   "source": [
    "print(\"\"\"**********************************\n",
    "faktöriyel bulma\n",
    "******************************\"\"\")\n",
    "\n",
    "while True:\n",
    "    sayı = input(\"sayı:\")\n",
    "    if (sayı ==\"q\"):\n",
    "        print(\"program sonlandırılıyor\")\n",
    "        break\n",
    "    else:\n",
    "        sayı=int(sayı)\n",
    "        faktoriyel= 1\n",
    "        for i in range(2,sayı+1):\n",
    "            print(\"Faktoriyel\",faktoriyel,\"i:\",i)\n",
    "            faktoriyel =faktoriyel*i\n",
    "        print(\"Faktöriyel :\",faktoriyel)"
   ]
  },
  {
   "cell_type": "code",
   "execution_count": 23,
   "id": "a406fa80",
   "metadata": {},
   "outputs": [],
   "source": [
    "def faktoriyel(sayı):\n",
    "    faktoriyel =1\n",
    "    if (sayı == 0 or sayı == 1):\n",
    "        print(\"faktoriyel\",faktoriyel)\n",
    "    else:\n",
    "        while (sayı >=1):\n",
    "            faktoriyel =faktoriyel * sayı\n",
    "            sayı = sayı -1\n",
    "        print(\"faktoriyel\",faktoriyel)"
   ]
  },
  {
   "cell_type": "code",
   "execution_count": 24,
   "id": "601f3900",
   "metadata": {},
   "outputs": [
    {
     "name": "stdout",
     "output_type": "stream",
     "text": [
      "faktoriyel 120\n"
     ]
    }
   ],
   "source": [
    "faktoriyel(5)"
   ]
  },
  {
   "cell_type": "code",
   "execution_count": 28,
   "id": "905151a0",
   "metadata": {},
   "outputs": [],
   "source": [
    "def toplama(*a): # esnek sayıda değerlerin toplanması\n",
    "    toplam=0\n",
    "    for i in a:\n",
    "        toplam +=i\n",
    "    print(toplam)  "
   ]
  },
  {
   "cell_type": "code",
   "execution_count": 29,
   "id": "a3d38a6a",
   "metadata": {},
   "outputs": [
    {
     "name": "stdout",
     "output_type": "stream",
     "text": [
      "21\n"
     ]
    }
   ],
   "source": [
    "toplama(1,5,6,5,4)"
   ]
  },
  {
   "cell_type": "code",
   "execution_count": 30,
   "id": "fbb13f47",
   "metadata": {},
   "outputs": [],
   "source": [
    "liste1 = [1,2,3,4]\n",
    "liste2 = [ i*2 for i in liste1 ] # list comprehension"
   ]
  },
  {
   "cell_type": "code",
   "execution_count": 31,
   "id": "f5b188f4",
   "metadata": {},
   "outputs": [
    {
     "data": {
      "text/plain": [
       "[2, 4, 6, 8]"
      ]
     },
     "execution_count": 31,
     "metadata": {},
     "output_type": "execute_result"
    }
   ],
   "source": [
    "liste2"
   ]
  },
  {
   "cell_type": "code",
   "execution_count": 36,
   "id": "a3d3a3b6",
   "metadata": {},
   "outputs": [],
   "source": [
    "toplama3 =lambda x,y,z : x+y+z"
   ]
  },
  {
   "cell_type": "code",
   "execution_count": 37,
   "id": "a372e755",
   "metadata": {},
   "outputs": [
    {
     "data": {
      "text/plain": [
       "10"
      ]
     },
     "execution_count": 37,
     "metadata": {},
     "output_type": "execute_result"
    }
   ],
   "source": [
    "toplama3(1,5,4)"
   ]
  },
  {
   "cell_type": "code",
   "execution_count": 38,
   "id": "8c5cb664",
   "metadata": {},
   "outputs": [],
   "source": [
    "ikiyleçarp = lambda x:x*2"
   ]
  },
  {
   "cell_type": "code",
   "execution_count": 39,
   "id": "65292b31",
   "metadata": {},
   "outputs": [
    {
     "data": {
      "text/plain": [
       "50"
      ]
     },
     "execution_count": 39,
     "metadata": {},
     "output_type": "execute_result"
    }
   ],
   "source": [
    "ikiyleçarp(25)"
   ]
  },
  {
   "cell_type": "code",
   "execution_count": 43,
   "id": "25c41e0a",
   "metadata": {},
   "outputs": [],
   "source": [
    "ters =lambda s : s[::-1] # ters çevir"
   ]
  },
  {
   "cell_type": "code",
   "execution_count": 44,
   "id": "cb43893b",
   "metadata": {},
   "outputs": [
    {
     "data": {
      "text/plain": [
       "'ezmag'"
      ]
     },
     "execution_count": 44,
     "metadata": {},
     "output_type": "execute_result"
    }
   ],
   "source": [
    "ters(\"gamze\")"
   ]
  },
  {
   "cell_type": "code",
   "execution_count": 45,
   "id": "f7d4ab1e",
   "metadata": {},
   "outputs": [],
   "source": [
    "def çifttek(sayı):\n",
    "    return sayı %2 ==0"
   ]
  },
  {
   "cell_type": "code",
   "execution_count": 46,
   "id": "2db1795c",
   "metadata": {},
   "outputs": [
    {
     "data": {
      "text/plain": [
       "False"
      ]
     },
     "execution_count": 46,
     "metadata": {},
     "output_type": "execute_result"
    }
   ],
   "source": [
    "çifttek(15)"
   ]
  },
  {
   "cell_type": "code",
   "execution_count": 53,
   "id": "8c1c91cf",
   "metadata": {},
   "outputs": [],
   "source": [
    "çifttek2 = lambda sayı : sayı %2 == 0"
   ]
  },
  {
   "cell_type": "code",
   "execution_count": 54,
   "id": "433b78bd",
   "metadata": {},
   "outputs": [
    {
     "name": "stdout",
     "output_type": "stream",
     "text": [
      "True\n"
     ]
    }
   ],
   "source": [
    "print(çifttek2(20))"
   ]
  },
  {
   "cell_type": "code",
   "execution_count": 55,
   "id": "c1895b5f",
   "metadata": {},
   "outputs": [
    {
     "name": "stdout",
     "output_type": "stream",
     "text": [
      "sayı:20\n",
      "tam bölenler: [2]\n",
      "sayı:0\n",
      "tam bölenler: None\n",
      "sayı:30\n",
      "tam bölenler: [2]\n",
      "sayı:50\n",
      "tam bölenler: [2]\n",
      "sayı:q\n",
      "program sonlandırılıyor.\n"
     ]
    }
   ],
   "source": [
    "def tambölenleribulma(sayı):\n",
    "    tam_bölenler =[]\n",
    "\n",
    "    for i in range( 2,sayı ) :\n",
    "        if (sayı % i == 0 ):\n",
    "            tam_bölenler.append(i)\n",
    "        return tam_bölenler\n",
    "while True :\n",
    "    sayı=input(\"sayı:\")\n",
    "\n",
    "    if(sayı == \"q\"):\n",
    "        print(\"program sonlandırılıyor.\")\n",
    "        break\n",
    "    else:\n",
    "        sayı=int(sayı)\n",
    "        print(\"tam bölenler:\",tambölenleribulma (sayı))\n"
   ]
  },
  {
   "cell_type": "code",
   "execution_count": 56,
   "id": "f13aca31",
   "metadata": {},
   "outputs": [],
   "source": [
    "#import math # math modülü dahil ederiz\n",
    "#import math as matematik"
   ]
  },
  {
   "cell_type": "code",
   "execution_count": 60,
   "id": "dd8dc2af",
   "metadata": {},
   "outputs": [],
   "source": [
    "from math import * # yıldız anlamı math modülü içindeki tüm fonksiyonlar"
   ]
  },
  {
   "cell_type": "code",
   "execution_count": 68,
   "id": "36c0bcd6",
   "metadata": {},
   "outputs": [],
   "source": [
    "class araba():     # nesne tabanlı programlama\n",
    "    model = \"renault megane\"\n",
    "    renk = \"gümüş\"\n",
    "    beygir_gücü =110\n",
    "    silindir :4\n",
    "    "
   ]
  },
  {
   "cell_type": "code",
   "execution_count": 69,
   "id": "117dd512",
   "metadata": {},
   "outputs": [],
   "source": [
    "araba1= araba()"
   ]
  },
  {
   "cell_type": "code",
   "execution_count": 70,
   "id": "e3029213",
   "metadata": {},
   "outputs": [
    {
     "data": {
      "text/plain": [
       "110"
      ]
     },
     "execution_count": 70,
     "metadata": {},
     "output_type": "execute_result"
    }
   ],
   "source": [
    "araba1.beygir_gücü"
   ]
  },
  {
   "cell_type": "code",
   "execution_count": 71,
   "id": "5a92c7d5",
   "metadata": {},
   "outputs": [],
   "source": [
    "class araba():\n",
    "    def __init__(self,model,beygir_gücü,renk,silindir):\n",
    "        print(\"init fonksiyonu çağrıldı...\")\n",
    "        self.model = model\n",
    "        self.renk= renk\n",
    "        self.beygir_gücü=beygir_gücü\n",
    "        self.silindir=silindir"
   ]
  },
  {
   "cell_type": "code",
   "execution_count": 72,
   "id": "45b43b51",
   "metadata": {},
   "outputs": [
    {
     "name": "stdout",
     "output_type": "stream",
     "text": [
      "init fonksiyonu çağrıldı...\n"
     ]
    }
   ],
   "source": [
    "araba1 = araba(\"renault megane\", 110 ,\"gümüş\",4)"
   ]
  },
  {
   "cell_type": "code",
   "execution_count": 73,
   "id": "f78fc3b6",
   "metadata": {},
   "outputs": [
    {
     "data": {
      "text/plain": [
       "'renault megane'"
      ]
     },
     "execution_count": 73,
     "metadata": {},
     "output_type": "execute_result"
    }
   ],
   "source": [
    "araba1.model"
   ]
  },
  {
   "cell_type": "code",
   "execution_count": 88,
   "id": "28f3c259",
   "metadata": {},
   "outputs": [],
   "source": [
    "class Yazılımcı():\n",
    "    def __init__(self,isim,soyisim,numara,maaş,diller):    \n",
    "        self.isim =isim\n",
    "        self.soyisim =soyisim\n",
    "        self.numara = numara\n",
    "        self.maaş = maaş\n",
    "        self.diller =diller\n",
    "    def bilgilerigöster (self) :\n",
    "        print(\"\"\"\n",
    "        yazılımcı objesinin özellikleri        \n",
    "        isim :{}\n",
    "        soyisim :{}\n",
    "        numara  :{}\n",
    "        maaş    :{}\n",
    "        bildiği diller :{}\n",
    "        \n",
    "        \"\"\".format(self.isim,self.soyisim,self.numara,self.maaş,self.diller))\n",
    "    "
   ]
  },
  {
   "cell_type": "code",
   "execution_count": 116,
   "id": "04530f5b",
   "metadata": {},
   "outputs": [],
   "source": [
    "yazılımcı = Yazılımcı(\"yunus\", \"bayram\", 123456 , 3000 ,[\"phython\",\"java\",\"c\",\"javascript\"])"
   ]
  },
  {
   "cell_type": "code",
   "execution_count": 117,
   "id": "f20acc2d",
   "metadata": {},
   "outputs": [
    {
     "data": {
      "text/plain": [
       "<__main__.Yazılımcı at 0x1f9317a7880>"
      ]
     },
     "execution_count": 117,
     "metadata": {},
     "output_type": "execute_result"
    }
   ],
   "source": [
    "yazılımcı"
   ]
  },
  {
   "cell_type": "code",
   "execution_count": 118,
   "id": "306b08c9",
   "metadata": {},
   "outputs": [
    {
     "name": "stdout",
     "output_type": "stream",
     "text": [
      "\n",
      "        yazılımcı objesinin özellikleri        \n",
      "        isim :yunus\n",
      "        soyisim :bayram\n",
      "        numara  :123456\n",
      "        maaş    :3000\n",
      "        bildiği diller :['phython', 'java', 'c', 'javascript']\n",
      "        \n",
      "        \n"
     ]
    }
   ],
   "source": [
    "yazılımcı.bilgilerigöster()"
   ]
  },
  {
   "cell_type": "code",
   "execution_count": 171,
   "id": "575bc0b4",
   "metadata": {},
   "outputs": [],
   "source": [
    "class Yazılımcı():\n",
    "    def __init__(self,isim,soyisim,numara,maaş,diller,çalışma_saati):    \n",
    "        self.isim =isim\n",
    "        self.soyisim =soyisim\n",
    "        self.numara = numara\n",
    "        self.maaş = maaş\n",
    "        self.diller =diller\n",
    "        self.çalışma_saati=çalışma_saati\n",
    "    def bilgilerigöster (self) :\n",
    "        print(\"\"\"\n",
    "        yazılımcı objesinin özellikleri        \n",
    "        isim :{}\n",
    "        soyisim :{}\n",
    "        numara  :{}\n",
    "        maaş    :{}\n",
    "        bildiği diller :{}\n",
    "        çalışma_saati  :{} \n",
    "        \n",
    "        \"\"\".format(self.isim,self.soyisim,self.numara,self.maaş,self.diller,self.çalışma_saati))\n",
    "    def zam_yap(self, zam_miktarı):\n",
    "        print(\"zam yapılıyor...\")\n",
    "        self.maaş += zam_miktarı\n",
    "    def dil_ekle(self,yeni_dil):\n",
    "        print(\"dil ekleniyor.....\")\n",
    "        self.diller.append(yeni_dil)\n",
    "    def saat_guncelle(self,yeni_saat):\n",
    "        print (\"saat güncelleniyor....\")\n",
    "        self.çalışma_saati= yeni_saat\n",
    "        \n",
    "    \n",
    "    "
   ]
  },
  {
   "cell_type": "code",
   "execution_count": 172,
   "id": "316f591b",
   "metadata": {},
   "outputs": [],
   "source": [
    "yazılımcı = Yazılımcı(\"yunus\", \"bayram\", 123456 , 3000 ,[\"phython\",\"java\",\"c\",\"javascript\"], 8)"
   ]
  },
  {
   "cell_type": "code",
   "execution_count": 173,
   "id": "d5a08e04",
   "metadata": {},
   "outputs": [
    {
     "name": "stdout",
     "output_type": "stream",
     "text": [
      "\n",
      "        yazılımcı objesinin özellikleri        \n",
      "        isim :yunus\n",
      "        soyisim :bayram\n",
      "        numara  :123456\n",
      "        maaş    :3000\n",
      "        bildiği diller :['phython', 'java', 'c', 'javascript']\n",
      "        çalışma_saati  :8 \n",
      "        \n",
      "        \n"
     ]
    }
   ],
   "source": [
    "yazılımcı.bilgilerigöster()"
   ]
  },
  {
   "cell_type": "code",
   "execution_count": 174,
   "id": "e1ea2234",
   "metadata": {},
   "outputs": [
    {
     "name": "stdout",
     "output_type": "stream",
     "text": [
      "saat güncelleniyor....\n"
     ]
    }
   ],
   "source": [
    "yazılımcı.saat_guncelle(12)"
   ]
  },
  {
   "cell_type": "code",
   "execution_count": 175,
   "id": "1302b7e5",
   "metadata": {},
   "outputs": [
    {
     "name": "stdout",
     "output_type": "stream",
     "text": [
      "dil ekleniyor.....\n"
     ]
    }
   ],
   "source": [
    "yazılımcı.dil_ekle(\"türkçe\")"
   ]
  },
  {
   "cell_type": "code",
   "execution_count": 176,
   "id": "6308a249",
   "metadata": {},
   "outputs": [
    {
     "name": "stdout",
     "output_type": "stream",
     "text": [
      "\n",
      "        yazılımcı objesinin özellikleri        \n",
      "        isim :yunus\n",
      "        soyisim :bayram\n",
      "        numara  :123456\n",
      "        maaş    :3000\n",
      "        bildiği diller :['phython', 'java', 'c', 'javascript', 'türkçe']\n",
      "        çalışma_saati  :12 \n",
      "        \n",
      "        \n"
     ]
    }
   ],
   "source": [
    "yazılımcı.bilgilerigöster()"
   ]
  },
  {
   "cell_type": "code",
   "execution_count": 109,
   "id": "e8fbaeb5",
   "metadata": {},
   "outputs": [],
   "source": [
    "class Çalışsan():\n",
    "    def __init__(self,isim,maaş,departman):\n",
    "        print(\"çalışsan sınıfının init fonksiyonu\")\n",
    "        \n",
    "        self.isim = isim\n",
    "        self.maaş = maaş\n",
    "        self.departman = departman\n",
    "    def bilgilerigöster (self):\n",
    "        print(\"çalışan sınıfının bilgileri......\")\n",
    "        \n",
    "        print(\"isim: {}\\nmaaş :{}\\ndepartman: {}\\n \".format(self.isim,self.maaş,self.departman ))\n",
    "    def departman_değiştir(self,yeni_departman):\n",
    "        self.departman = yeni_departman"
   ]
  },
  {
   "cell_type": "code",
   "execution_count": 83,
   "id": "2a0f4186",
   "metadata": {},
   "outputs": [],
   "source": [
    "class Yönetici(Çalışsan):\n",
    "    pass"
   ]
  },
  {
   "cell_type": "code",
   "execution_count": 84,
   "id": "d46a261b",
   "metadata": {},
   "outputs": [
    {
     "name": "stdout",
     "output_type": "stream",
     "text": [
      "çalışsan sınıfının init fonksiyonu\n"
     ]
    }
   ],
   "source": [
    "yönetici = Yönetici(\"yunus bayram\",10000, \"bakım\" )"
   ]
  },
  {
   "cell_type": "code",
   "execution_count": 86,
   "id": "074ef5fd",
   "metadata": {},
   "outputs": [
    {
     "name": "stdout",
     "output_type": "stream",
     "text": [
      "çalışan sınıfının bilgileri......\n",
      "isim: yunus bayram\n",
      "maaş :10000\n",
      "departman: bakım\n",
      " \n"
     ]
    }
   ],
   "source": [
    "yönetici.bilgilerigöster()"
   ]
  },
  {
   "cell_type": "code",
   "execution_count": 100,
   "id": "5e44bd1e",
   "metadata": {},
   "outputs": [],
   "source": [
    "yönetici.departman_değiştir(\"insan kaynakları\")"
   ]
  },
  {
   "cell_type": "code",
   "execution_count": 101,
   "id": "8c638ad5",
   "metadata": {},
   "outputs": [
    {
     "name": "stdout",
     "output_type": "stream",
     "text": [
      "çalışan sınıfının bilgileri......\n",
      "isim: yunus bayram\n",
      "maaş :10000\n",
      "departman: insan kaynakları\n",
      " \n"
     ]
    }
   ],
   "source": [
    "yönetici.bilgilerigöster()"
   ]
  },
  {
   "cell_type": "code",
   "execution_count": 178,
   "id": "59764e83",
   "metadata": {},
   "outputs": [
    {
     "ename": "ValueError",
     "evalue": "invalid literal for int() with base 10: 'dajhcd25625'",
     "output_type": "error",
     "traceback": [
      "\u001b[1;31m---------------------------------------------------------------------------\u001b[0m",
      "\u001b[1;31mValueError\u001b[0m                                Traceback (most recent call last)",
      "\u001b[1;32m~\\AppData\\Local\\Temp/ipykernel_23852/1710376567.py\u001b[0m in \u001b[0;36m<module>\u001b[1;34m\u001b[0m\n\u001b[1;32m----> 1\u001b[1;33m \u001b[0ma\u001b[0m\u001b[1;33m=\u001b[0m \u001b[0mint\u001b[0m\u001b[1;33m(\u001b[0m\u001b[1;34m\"dajhcd25625\"\u001b[0m\u001b[1;33m)\u001b[0m\u001b[1;33m\u001b[0m\u001b[1;33m\u001b[0m\u001b[0m\n\u001b[0m",
      "\u001b[1;31mValueError\u001b[0m: invalid literal for int() with base 10: 'dajhcd25625'"
     ]
    }
   ],
   "source": [
    "a= int(\"dajhcd25625\")"
   ]
  },
  {
   "cell_type": "code",
   "execution_count": 179,
   "id": "e8f97607",
   "metadata": {},
   "outputs": [
    {
     "name": "stdout",
     "output_type": "stream",
     "text": [
      "bir hata oluştu\n",
      "bloklar sona erdi\n"
     ]
    }
   ],
   "source": [
    "try:\n",
    "    a= int(\"dajhcd25625\")\n",
    "    print(\"program burada\")\n",
    "except:\n",
    "    print(\"bir hata oluştu\")\n",
    "print(\"bloklar sona erdi\")   "
   ]
  },
  {
   "cell_type": "code",
   "execution_count": 185,
   "id": "fd89a3ac",
   "metadata": {},
   "outputs": [],
   "source": [
    "def tersçevir(s):           # hata fırlatma\n",
    "    if (type(s)  != str ):\n",
    "        raise ValueError(\"lütfen string bir değer gönderin.\")\n",
    "    else:\n",
    "        return s[::-1]\n"
   ]
  },
  {
   "cell_type": "code",
   "execution_count": 186,
   "id": "506e8153",
   "metadata": {},
   "outputs": [
    {
     "ename": "ValueError",
     "evalue": "lütfen string bir değer gönderin.",
     "output_type": "error",
     "traceback": [
      "\u001b[1;31m---------------------------------------------------------------------------\u001b[0m",
      "\u001b[1;31mValueError\u001b[0m                                Traceback (most recent call last)",
      "\u001b[1;32m~\\AppData\\Local\\Temp/ipykernel_23852/1929376003.py\u001b[0m in \u001b[0;36m<module>\u001b[1;34m\u001b[0m\n\u001b[1;32m----> 1\u001b[1;33m \u001b[0mprint\u001b[0m\u001b[1;33m(\u001b[0m\u001b[0mtersçevir\u001b[0m\u001b[1;33m(\u001b[0m\u001b[1;36m12\u001b[0m\u001b[1;33m)\u001b[0m\u001b[1;33m)\u001b[0m\u001b[1;33m\u001b[0m\u001b[1;33m\u001b[0m\u001b[0m\n\u001b[0m",
      "\u001b[1;32m~\\AppData\\Local\\Temp/ipykernel_23852/3974272208.py\u001b[0m in \u001b[0;36mtersçevir\u001b[1;34m(s)\u001b[0m\n\u001b[0;32m      1\u001b[0m \u001b[1;32mdef\u001b[0m \u001b[0mtersçevir\u001b[0m\u001b[1;33m(\u001b[0m\u001b[0ms\u001b[0m\u001b[1;33m)\u001b[0m\u001b[1;33m:\u001b[0m           \u001b[1;31m# hata fırlatma\u001b[0m\u001b[1;33m\u001b[0m\u001b[1;33m\u001b[0m\u001b[0m\n\u001b[0;32m      2\u001b[0m     \u001b[1;32mif\u001b[0m \u001b[1;33m(\u001b[0m\u001b[0mtype\u001b[0m\u001b[1;33m(\u001b[0m\u001b[0ms\u001b[0m\u001b[1;33m)\u001b[0m  \u001b[1;33m!=\u001b[0m \u001b[0mstr\u001b[0m \u001b[1;33m)\u001b[0m\u001b[1;33m:\u001b[0m\u001b[1;33m\u001b[0m\u001b[1;33m\u001b[0m\u001b[0m\n\u001b[1;32m----> 3\u001b[1;33m         \u001b[1;32mraise\u001b[0m \u001b[0mValueError\u001b[0m\u001b[1;33m(\u001b[0m\u001b[1;34m\"lütfen string bir değer gönderin.\"\u001b[0m\u001b[1;33m)\u001b[0m\u001b[1;33m\u001b[0m\u001b[1;33m\u001b[0m\u001b[0m\n\u001b[0m\u001b[0;32m      4\u001b[0m     \u001b[1;32melse\u001b[0m\u001b[1;33m:\u001b[0m\u001b[1;33m\u001b[0m\u001b[1;33m\u001b[0m\u001b[0m\n\u001b[0;32m      5\u001b[0m         \u001b[1;32mreturn\u001b[0m \u001b[0ms\u001b[0m\u001b[1;33m[\u001b[0m\u001b[1;33m:\u001b[0m\u001b[1;33m:\u001b[0m\u001b[1;33m-\u001b[0m\u001b[1;36m1\u001b[0m\u001b[1;33m]\u001b[0m\u001b[1;33m\u001b[0m\u001b[1;33m\u001b[0m\u001b[0m\n",
      "\u001b[1;31mValueError\u001b[0m: lütfen string bir değer gönderin."
     ]
    }
   ],
   "source": [
    "print(tersçevir(12))"
   ]
  },
  {
   "cell_type": "code",
   "execution_count": 187,
   "id": "517508de",
   "metadata": {},
   "outputs": [
    {
     "ename": "FileNotFoundError",
     "evalue": "[Errno 2] No such file or directory: 'BİLGİLER.txt'",
     "output_type": "error",
     "traceback": [
      "\u001b[1;31m---------------------------------------------------------------------------\u001b[0m",
      "\u001b[1;31mFileNotFoundError\u001b[0m                         Traceback (most recent call last)",
      "\u001b[1;32m~\\AppData\\Local\\Temp/ipykernel_23852/168219019.py\u001b[0m in \u001b[0;36m<module>\u001b[1;34m\u001b[0m\n\u001b[1;32m----> 1\u001b[1;33m \u001b[1;32mwith\u001b[0m \u001b[0mopen\u001b[0m\u001b[1;33m(\u001b[0m\u001b[1;34m\"BİLGİLER.txt\"\u001b[0m\u001b[1;33m,\u001b[0m\u001b[1;34m\"r+\"\u001b[0m\u001b[1;33m,\u001b[0m\u001b[0mencoding\u001b[0m \u001b[1;33m=\u001b[0m \u001b[1;34m\"utf-8\"\u001b[0m\u001b[1;33m)\u001b[0m \u001b[1;32mas\u001b[0m \u001b[0mfile\u001b[0m\u001b[1;33m:\u001b[0m\u001b[1;33m\u001b[0m\u001b[1;33m\u001b[0m\u001b[0m\n\u001b[0m\u001b[0;32m      2\u001b[0m     \u001b[0micerik\u001b[0m \u001b[1;33m=\u001b[0m \u001b[0mfile\u001b[0m\u001b[1;33m.\u001b[0m\u001b[0mread\u001b[0m\u001b[1;33m(\u001b[0m\u001b[1;33m)\u001b[0m\u001b[1;33m\u001b[0m\u001b[1;33m\u001b[0m\u001b[0m\n\u001b[0;32m      3\u001b[0m \u001b[1;33m\u001b[0m\u001b[0m\n\u001b[0;32m      4\u001b[0m     \u001b[0micerik\u001b[0m \u001b[1;33m=\u001b[0m \u001b[1;34m\"Semih   Aktaş...\\n\"\u001b[0m \u001b[1;33m+\u001b[0m \u001b[0micerik\u001b[0m\u001b[1;33m\u001b[0m\u001b[1;33m\u001b[0m\u001b[0m\n\u001b[0;32m      5\u001b[0m     \u001b[0mfile\u001b[0m\u001b[1;33m.\u001b[0m\u001b[0mseek\u001b[0m\u001b[1;33m(\u001b[0m\u001b[1;36m0\u001b[0m\u001b[1;33m)\u001b[0m\u001b[1;33m\u001b[0m\u001b[1;33m\u001b[0m\u001b[0m\n",
      "\u001b[1;31mFileNotFoundError\u001b[0m: [Errno 2] No such file or directory: 'BİLGİLER.txt'"
     ]
    }
   ],
   "source": [
    "with open(\"BİLGİLER.txt\",\"r+\",encoding = \"utf-8\") as file:\n",
    "    icerik = file.read()\n",
    "    \n",
    "    icerik = \"Semih   Aktaş...\\n\" + icerik\n",
    "    file.seek(0)\n",
    "    file.write(icerik)"
   ]
  },
  {
   "cell_type": "code",
   "execution_count": 189,
   "id": "c2554aed",
   "metadata": {},
   "outputs": [
    {
     "ename": "FileNotFoundError",
     "evalue": "[Errno 2] No such file or directory: 'BİLGİLER.txt'",
     "output_type": "error",
     "traceback": [
      "\u001b[1;31m---------------------------------------------------------------------------\u001b[0m",
      "\u001b[1;31mFileNotFoundError\u001b[0m                         Traceback (most recent call last)",
      "\u001b[1;32m~\\AppData\\Local\\Temp/ipykernel_23852/3329734866.py\u001b[0m in \u001b[0;36m<module>\u001b[1;34m\u001b[0m\n\u001b[1;32m----> 1\u001b[1;33m \u001b[1;32mwith\u001b[0m \u001b[0mopen\u001b[0m\u001b[1;33m(\u001b[0m\u001b[1;34m\"BİLGİLER.txt\"\u001b[0m\u001b[1;33m,\u001b[0m\u001b[1;34m\"r+\"\u001b[0m\u001b[1;33m,\u001b[0m\u001b[0mencoding\u001b[0m \u001b[1;33m=\u001b[0m \u001b[1;34m\"utf-8\"\u001b[0m\u001b[1;33m)\u001b[0m \u001b[1;32mas\u001b[0m \u001b[0mfile\u001b[0m\u001b[1;33m:\u001b[0m \u001b[1;31m# readlines ile pratik ekleme\u001b[0m\u001b[1;33m\u001b[0m\u001b[1;33m\u001b[0m\u001b[0m\n\u001b[0m\u001b[0;32m      2\u001b[0m     \u001b[0mliste\u001b[0m \u001b[1;33m=\u001b[0m \u001b[0mfile\u001b[0m\u001b[1;33m.\u001b[0m\u001b[0mreadlines\u001b[0m\u001b[1;33m(\u001b[0m\u001b[1;33m)\u001b[0m\u001b[1;33m\u001b[0m\u001b[1;33m\u001b[0m\u001b[0m\n\u001b[0;32m      3\u001b[0m     \u001b[0mliste\u001b[0m\u001b[1;33m.\u001b[0m\u001b[0minsert\u001b[0m\u001b[1;33m(\u001b[0m\u001b[1;36m3\u001b[0m\u001b[1;33m,\u001b[0m\u001b[1;34m\"Ahmet Baltacı\\n\"\u001b[0m\u001b[1;33m)\u001b[0m\u001b[1;33m\u001b[0m\u001b[1;33m\u001b[0m\u001b[0m\n\u001b[0;32m      4\u001b[0m     \u001b[0mfile\u001b[0m\u001b[1;33m.\u001b[0m\u001b[0mseek\u001b[0m\u001b[1;33m(\u001b[0m\u001b[1;36m0\u001b[0m\u001b[1;33m)\u001b[0m\u001b[1;33m\u001b[0m\u001b[1;33m\u001b[0m\u001b[0m\n\u001b[0;32m      5\u001b[0m     \u001b[0mfile\u001b[0m\u001b[1;33m.\u001b[0m\u001b[0mwritelines\u001b[0m\u001b[1;33m(\u001b[0m\u001b[0mliste\u001b[0m\u001b[1;33m)\u001b[0m\u001b[1;33m\u001b[0m\u001b[1;33m\u001b[0m\u001b[0m\n",
      "\u001b[1;31mFileNotFoundError\u001b[0m: [Errno 2] No such file or directory: 'BİLGİLER.txt'"
     ]
    }
   ],
   "source": [
    "with open(\"BİLGİLER.txt\",\"r+\",encoding = \"utf-8\") as file: # readlines ile pratik ekleme\n",
    "    liste = file.readlines()\n",
    "    liste.insert(3,\"Ahmet Baltacı\\n\")\n",
    "    file.seek(0)\n",
    "    file.writelines(liste)"
   ]
  },
  {
   "cell_type": "code",
   "execution_count": null,
   "id": "1f4e5a2b",
   "metadata": {},
   "outputs": [],
   "source": []
  }
 ],
 "metadata": {
  "kernelspec": {
   "display_name": "Python 3 (ipykernel)",
   "language": "python",
   "name": "python3"
  },
  "language_info": {
   "codemirror_mode": {
    "name": "ipython",
    "version": 3
   },
   "file_extension": ".py",
   "mimetype": "text/x-python",
   "name": "python",
   "nbconvert_exporter": "python",
   "pygments_lexer": "ipython3",
   "version": "3.9.7"
  }
 },
 "nbformat": 4,
 "nbformat_minor": 5
}
